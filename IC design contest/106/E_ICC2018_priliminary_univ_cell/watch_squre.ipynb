{
 "cells": [
  {
   "cell_type": "code",
   "execution_count": 2,
   "metadata": {},
   "outputs": [
    {
     "name": "stdout",
     "output_type": "stream",
     "text": [
      "00 01 02 03 04 05 06 07 \n",
      "08 09 0A 0B 0C 0D 0E 0F \n",
      "10 11 13 23 1C 15 16 17 \n",
      "18 19 12 23 14 14 1E 1F \n",
      "20 21 23 20 24 20 26 27 \n",
      "28 29 2A 20 2B 20 2E 2F \n",
      "30 31 32 33 34 35 36 37 \n",
      "38 39 3A 3B 3C 3D 3E 3F \n"
     ]
    }
   ],
   "source": [
    "def read_dat_file(file_path):\n",
    "    values = []\n",
    "    with open(file_path, 'r') as file:\n",
    "        for line in file:\n",
    "            values.append(line.strip())\n",
    "    return values\n",
    "\n",
    "def print_square_matrix(matrix):\n",
    "    for row in matrix:\n",
    "        for value in row:\n",
    "            print(f'{value}', end=' ')\n",
    "        print()\n",
    "\n",
    "file_path = 'tb2_goal.dat'  # 替換成您的檔案路徑\n",
    "\n",
    "values = read_dat_file(file_path)\n",
    "if len(values) != 64:\n",
    "    print(\"檔案內的值數量不正確，應為 64 個\")\n",
    "else:\n",
    "    matrix = [values[i:i+8] for i in range(0, 64, 8)]\n",
    "    print_square_matrix(matrix)"
   ]
  },
  {
   "cell_type": "code",
   "execution_count": 6,
   "metadata": {},
   "outputs": [
    {
     "name": "stdout",
     "output_type": "stream",
     "text": [
      "00 01 02 03 04 05 06 07 \n",
      "08 09 0a 0b 0c 0d 0e 0f \n",
      "10 11 12 13 14 15 16 17 \n",
      "18 19 1a 1b 1c 1d 1e 1f \n",
      "20 21 22 23 24 25 26 27 \n",
      "28 29 2a 2b 2c 2d 2e 2f \n",
      "30 31 32 33 34 35 36 37 \n",
      "38 39 3a 3b 3c 3d 3e 3f \n"
     ]
    }
   ],
   "source": [
    "for i in range(8):\n",
    "    for j in range(8):\n",
    "        if((i*8+j) < 16):\n",
    "            print(f'0{hex(i*8+j)[2:]}', end=' ')\n",
    "        else:\n",
    "            print(f'{hex(i*8+j)[2:]}', end=' ')\n",
    "    print()\n"
   ]
  }
 ],
 "metadata": {
  "kernelspec": {
   "display_name": "base",
   "language": "python",
   "name": "python3"
  },
  "language_info": {
   "codemirror_mode": {
    "name": "ipython",
    "version": 3
   },
   "file_extension": ".py",
   "mimetype": "text/x-python",
   "name": "python",
   "nbconvert_exporter": "python",
   "pygments_lexer": "ipython3",
   "version": "3.8.8"
  },
  "orig_nbformat": 4
 },
 "nbformat": 4,
 "nbformat_minor": 2
}
